{
 "cells": [
  {
   "cell_type": "code",
   "execution_count": 1,
   "id": "aae9988b",
   "metadata": {},
   "outputs": [],
   "source": [
    "from langchain_google_genai import ChatGoogleGenerativeAI\n",
    "from langgraph.graph import MessagesState, StateGraph, START\n",
    "from langgraph.prebuilt import create_react_agent, InjectedState\n",
    "from langgraph.types import Command, interrupt\n",
    "from langgraph.checkpoint.memory import InMemorySaver\n"
   ]
  },
  {
   "cell_type": "code",
   "execution_count": 2,
   "id": "76d010c6",
   "metadata": {},
   "outputs": [
    {
     "data": {
      "text/plain": [
       "True"
      ]
     },
     "execution_count": 2,
     "metadata": {},
     "output_type": "execute_result"
    }
   ],
   "source": [
    "from dotenv import load_dotenv\n",
    "load_dotenv()"
   ]
  },
  {
   "cell_type": "code",
   "execution_count": 3,
   "id": "55c07f20",
   "metadata": {},
   "outputs": [],
   "source": [
    "#llm\n",
    "llm = ChatGoogleGenerativeAI(model = 'gemini-2.5-flash')"
   ]
  },
  {
   "cell_type": "code",
   "execution_count": 4,
   "id": "cecccc9d",
   "metadata": {},
   "outputs": [
    {
     "name": "stdout",
     "output_type": "stream",
     "text": [
      "Jump to content ## Contents * 1 History * View history * View history * Download QR code * Download as PDF The mayor's office is located in New York City Hall; it has jurisdiction over all five boroughs \"Borough (New York City)\") of New York City: Manhattan, Brooklyn, the Bronx, Staten Island and Queens. According to current law, the mayor is limited to two consecutive four-year terms in office but may run again after a four-year break. The current mayor is Eric Adams, who was elected on November 2, 2021, and took office shortly after midnight on January 1, 2022. ## History Its last political leader was an African American man named J. (**Discuss**) *(June 2025)* | * Robert W. * Staten Island Historical Society\n"
     ]
    }
   ],
   "source": [
    "from langchain_tavily import TavilySearch\n",
    "\n",
    "web_search = TavilySearch(max_results=3)\n",
    "web_search_results = web_search.invoke(\"who is the mayor of NYC?\")\n",
    "\n",
    "print(web_search_results[\"results\"][0][\"content\"])"
   ]
  },
  {
   "cell_type": "code",
   "execution_count": 5,
   "id": "685e9d93",
   "metadata": {},
   "outputs": [],
   "source": [
    "from langgraph.prebuilt import create_react_agent\n",
    "\n",
    "research_agent = create_react_agent(\n",
    "    model=llm,\n",
    "    tools=[web_search],\n",
    "    prompt=(\n",
    "        \"You are a research agent.\\n\\n\"\n",
    "        \"INSTRUCTIONS:\\n\"\n",
    "        \"- Assist ONLY with research-related tasks, DO NOT do any math\\n\"\n",
    "        \"- After you're done with your tasks, respond to the supervisor directly\\n\"\n",
    "        \"- Respond ONLY with the results of your work, do NOT include ANY other text.\"\n",
    "    ),\n",
    "    name=\"research_agent\",\n",
    ")"
   ]
  },
  {
   "cell_type": "code",
   "execution_count": 6,
   "id": "3e1a2311",
   "metadata": {},
   "outputs": [],
   "source": [
    "def add(a: float, b: float):\n",
    "    \"\"\"Add two numbers.\"\"\"\n",
    "    return a + b\n",
    "\n",
    "\n",
    "def multiply(a: float, b: float):\n",
    "    \"\"\"Multiply two numbers.\"\"\"\n",
    "    return a * b\n",
    "\n",
    "\n",
    "def divide(a: float, b: float):\n",
    "    \"\"\"Divide two numbers.\"\"\"\n",
    "    return a / b\n",
    "\n",
    "\n",
    "math_agent = create_react_agent(\n",
    "    model=llm,\n",
    "    tools=[add, multiply, divide],\n",
    "    prompt=(\n",
    "        \"You are a math agent.\\n\\n\"\n",
    "        \"INSTRUCTIONS:\\n\"\n",
    "        \"- Assist ONLY with math-related tasks\\n\"\n",
    "        \"- After you're done with your tasks, respond to the supervisor directly\\n\"\n",
    "        \"- Respond ONLY with the results of your work, do NOT include ANY other text.\"\n",
    "    ),\n",
    "    name=\"math_agent\",\n",
    ")"
   ]
  },
  {
   "cell_type": "code",
   "execution_count": 7,
   "id": "8ca0a9c8",
   "metadata": {},
   "outputs": [],
   "source": [
    "from langgraph_supervisor import create_supervisor\n",
    "\n",
    "supervisor = create_supervisor(\n",
    "    model=llm,\n",
    "    agents=[research_agent, math_agent],\n",
    "    prompt=(\n",
    "        \"You are a supervisor managing two agents:\\n\"\n",
    "        \"- a research agent. Assign research-related tasks to this agent\\n\"\n",
    "        \"- a math agent. Assign math-related tasks to this agent\\n\"\n",
    "        \"Assign work to one agent at a time, do not call agents in parallel.\\n\"\n",
    "        \"Do not do any work yourself.\"\n",
    "    ),\n",
    "    output_mode=\"last_message\",\n",
    "    add_handoff_messages = True,\n",
    ").compile()"
   ]
  },
  {
   "cell_type": "code",
   "execution_count": 8,
   "id": "6d8a2055",
   "metadata": {},
   "outputs": [
    {
     "data": {
      "image/png": "[encoded data removed]",
      "text/plain": [
       "<IPython.core.display.Image object>"
      ]
     },
     "metadata": {},
     "output_type": "display_data"
    }
   ],
   "source": [
    "from IPython.display import display, Image\n",
    "\n",
    "display(Image(supervisor.get_graph().draw_mermaid_png()))"
   ]
  },
  {
   "cell_type": "code",
   "execution_count": null,
   "id": "437e933e",
   "metadata": {},
   "outputs": [],
   "source": [
    "from langchain_core.messages import HumanMessage,AIMessage,ToolMessage,AIMessageChunk\n",
    "\n",
    "def stream_supervisor(graph, user_input: str, config: dict = None):\n",
    "    \"\"\"\n",
    "    Custom function to stream outputs while showing agent activity.\n",
    "    \"\"\"\n",
    "    for stream_mode, chunk in graph.stream(\n",
    "        {\"messages\": [HumanMessage(content=user_input)]},\n",
    "        config=config or {},\n",
    "        stream_mode=[\"updates\", \"messages\"],\n",
    "    ):\n",
    "\n",
    "\n",
    "        if stream_mode == \"updates\":\n",
    "            print(chunk) \n",
    "            for node, data in chunk.items():\n",
    "                # Collect log\n",
    "                print(\"----------------------------------\")\n",
    "                print(f\"🔄 **Update from node:** {node}\")\n",
    "                print(\"----------------------------------\")\n",
    "            if node == \"supervisor\":\n",
    "                if \"messages\" in data:\n",
    "                    for msg in data[\"messages\"]:\n",
    "                        # Handle only AI/Tool messages that are NEW\n",
    "                        if isinstance(msg, AIMessage):\n",
    "                        \n",
    "                            print(f\"🤖 : {msg.content}\")\n",
    "\n",
    "\n",
    "\n"
   ]
  },
  {
   "cell_type": "code",
   "execution_count": 11,
   "id": "76150e31",
   "metadata": {},
   "outputs": [
    {
     "name": "stdout",
     "output_type": "stream",
     "text": [
      "----------------------------------\n",
      "🔄 **Update from node:** supervisor\n",
      "----------------------------------\n",
      "🤖 : \n",
      "🔧 **Using tool:** `multiply`\n",
      "🔧 **Using tool:** `transfer_back_to_supervisor`\n",
      "----------------------------------\n",
      "🔄 **Update from node:** math_agent\n",
      "----------------------------------\n",
      "----------------------------------\n",
      "🔄 **Update from node:** supervisor\n",
      "----------------------------------\n",
      "🤖 : \n",
      "🤖 : 30\n",
      "🤖 : Transferring back to supervisor\n",
      "🤖 : The answer is 30.\n",
      "\n"
     ]
    }
   ],
   "source": [
    "stream_supervisor(supervisor, \"what is 5 multiplied by 6\")\n"
   ]
  },
  {
   "cell_type": "code",
   "execution_count": 75,
   "id": "d577ef6d",
   "metadata": {},
   "outputs": [
    {
     "name": "stdout",
     "output_type": "stream",
     "text": [
      "updates\n",
      "{'supervisor': {'messages': [HumanMessage(content='what was India GDP in 2024', additional_kwargs={}, response_metadata={}, id='c1e6a150-01dc-4b0f-afcc-54c2f6df12ab'), AIMessage(content='', additional_kwargs={'function_call': {'name': 'transfer_to_research_agent', 'arguments': '{}'}}, response_metadata={'finish_reason': 'STOP', 'model_name': 'gemini-2.5-flash', 'safety_ratings': []}, name='supervisor', id='run--e88c45c9-bd6b-4387-b4f3-a6ae1de362df', tool_calls=[{'name': 'transfer_to_research_agent', 'args': {}, 'id': '440c3ced-93b7-41e1-8bb7-41277169d215', 'type': 'tool_call'}], usage_metadata={'input_tokens': 211, 'output_tokens': 55, 'total_tokens': 266, 'input_token_details': {'cache_read': 0}, 'output_token_details': {'reasoning': 41}}), ToolMessage(content='Successfully transferred to research_agent', name='transfer_to_research_agent', tool_call_id='440c3ced-93b7-41e1-8bb7-41277169d215')]}}\n",
      "messages\n",
      "(AIMessage(content='', additional_kwargs={'function_call': {'name': 'tavily_search', 'arguments': '{\"query\": \"India GDP 2024\", \"topic\": \"finance\"}'}}, response_metadata={'finish_reason': 'STOP', 'model_name': 'gemini-2.5-flash', 'safety_ratings': []}, name='research_agent', id='run--af4231e5-de12-4725-a28d-e611c75ac287', tool_calls=[{'name': 'tavily_search', 'args': {'query': 'India GDP 2024', 'topic': 'finance'}, 'id': '16719e56-fa9b-483f-a1d2-54930e5b2cdc', 'type': 'tool_call'}], usage_metadata={'input_tokens': 1617, 'output_tokens': 127, 'total_tokens': 1744, 'input_token_details': {'cache_read': 0}, 'output_token_details': {'reasoning': 99}}), {'langgraph_step': 2, 'langgraph_node': 'research_agent', 'langgraph_triggers': ('branch:to:research_agent',), 'langgraph_path': ('__pregel_pull', 'research_agent'), 'langgraph_checkpoint_ns': 'research_agent:9199d03f-f3e8-a5c5-d87b-13d5b5110207', 'checkpoint_ns': 'research_agent:9199d03f-f3e8-a5c5-d87b-13d5b5110207'})\n",
      "messages\n",
      "(ToolMessage(content='{\"query\": \"India GDP 2024\", \"follow_up_questions\": null, \"answer\": null, \"images\": [], \"results\": [{\"url\": \"https://www.bloomberg.com/news/newsletters/2024-12-05/modi-rbi-have-no-easy-fix-for-india-s-economic-slowdown\", \"title\": \"India\\'s GDP Hard Landing Is Unlikely to Shift Policy\", \"content\": \"Dec 4, 2024—From a “world-beating 8.2%” last fiscal year to a “5.4% growth shocker” last quarter,India\\'sslowingGDPgrowth has prompted economists to\", \"score\": 0.7728226, \"raw_content\": null}, {\"url\": \"https://www.bloomberg.com/news/newsletters/2024-10-10/pressure-rises-on-india-s-growth-as-china-makes-efforts-to-revive-economy\", \"title\": \"As China Perks Up, India Slows Down\", \"content\": \"Oct 10, 2024—RBI More Bullish On Growth Than Economists.India GDP growth estimates for 2024-25 vary widely. Source: Reports. India\\'s slowing growth also\", \"score\": 0.680136, \"raw_content\": null}, {\"url\": \"https://www.investopedia.com/articles/investing/043015/fundamentals-how-india-makes-its-money.asp\", \"title\": \"The Fundamentals of How India Makes Its Money\", \"content\": \"* Development of India\\'s Economy India is one of the fastest-growing economies in the world, driven primarily by its service, industrial, and agricultural sectors. India\\'s economy grew at a rate of 8.2% in fiscal year 2023-2024.This growth was primarily due to strong demand for\\xa0the country\\'s goods\\xa0and services in addition to a high level of industrial activity. * The service industry in India increased from a fraction of the economy to approximately 55% from the early 1960s through 2024. India began to loosen its economic restrictions in 1991 and an increased level of liberalization led to growth in the country\\'s private sector. The service industry in India increased from a fraction of the economy to approximately 55% of gross value added between 1962 and 2025.\", \"score\": 0.66621506, \"raw_content\": null}], \"response_time\": 1.46, \"request_id\": \"45432435-2159-4a52-b1fd-701e5e88233d\"}', name='tavily_search', id='69b2efe5-7e97-4a20-a452-52f4c88f0228', tool_call_id='16719e56-fa9b-483f-a1d2-54930e5b2cdc'), {'langgraph_step': 2, 'langgraph_node': 'research_agent', 'langgraph_triggers': ('branch:to:research_agent',), 'langgraph_path': ('__pregel_pull', 'research_agent'), 'langgraph_checkpoint_ns': 'research_agent:9199d03f-f3e8-a5c5-d87b-13d5b5110207', 'checkpoint_ns': 'research_agent:9199d03f-f3e8-a5c5-d87b-13d5b5110207'})\n",
      "messages\n",
      "(AIMessage(content=\"India's economy grew at a rate of 8.2% in fiscal year 2023-2024. Estimates for India's GDP growth in 2024-25 vary.\", additional_kwargs={}, response_metadata={'finish_reason': 'STOP', 'model_name': 'gemini-2.5-flash', 'safety_ratings': []}, name='research_agent', id='run--6141c120-518a-40fd-9a7a-99f3ffc5cbfa', usage_metadata={'input_tokens': 2302, 'output_tokens': 219, 'total_tokens': 2521, 'input_token_details': {'cache_read': 859}, 'output_token_details': {'reasoning': 173}}), {'langgraph_step': 2, 'langgraph_node': 'research_agent', 'langgraph_triggers': ('branch:to:research_agent',), 'langgraph_path': ('__pregel_pull', 'research_agent'), 'langgraph_checkpoint_ns': 'research_agent:9199d03f-f3e8-a5c5-d87b-13d5b5110207', 'checkpoint_ns': 'research_agent:9199d03f-f3e8-a5c5-d87b-13d5b5110207'})\n",
      "messages\n",
      "(AIMessage(content='Transferring back to supervisor', additional_kwargs={}, response_metadata={'__is_handoff_back': True}, name='research_agent', id='39fee8b6-4e85-4fa1-b3d6-60a7ce8e4ad6', tool_calls=[{'name': 'transfer_back_to_supervisor', 'args': {}, 'id': '76348159-b6e9-46ee-a465-54530ffc60d8', 'type': 'tool_call'}]), {'langgraph_step': 2, 'langgraph_node': 'research_agent', 'langgraph_triggers': ('branch:to:research_agent',), 'langgraph_path': ('__pregel_pull', 'research_agent'), 'langgraph_checkpoint_ns': 'research_agent:9199d03f-f3e8-a5c5-d87b-13d5b5110207'})\n",
      "messages\n",
      "(ToolMessage(content='Successfully transferred back to supervisor', name='transfer_back_to_supervisor', id='e4f9e8b6-1941-4d7f-b9f6-1c43a258cc68', tool_call_id='76348159-b6e9-46ee-a465-54530ffc60d8'), {'langgraph_step': 2, 'langgraph_node': 'research_agent', 'langgraph_triggers': ('branch:to:research_agent',), 'langgraph_path': ('__pregel_pull', 'research_agent'), 'langgraph_checkpoint_ns': 'research_agent:9199d03f-f3e8-a5c5-d87b-13d5b5110207'})\n",
      "updates\n",
      "{'research_agent': {'messages': [AIMessage(content=\"India's economy grew at a rate of 8.2% in fiscal year 2023-2024. Estimates for India's GDP growth in 2024-25 vary.\", additional_kwargs={}, response_metadata={'finish_reason': 'STOP', 'model_name': 'gemini-2.5-flash', 'safety_ratings': []}, name='research_agent', id='run--6141c120-518a-40fd-9a7a-99f3ffc5cbfa', usage_metadata={'input_tokens': 2302, 'output_tokens': 219, 'total_tokens': 2521, 'input_token_details': {'cache_read': 859}, 'output_token_details': {'reasoning': 173}}), AIMessage(content='Transferring back to supervisor', additional_kwargs={}, response_metadata={'__is_handoff_back': True}, name='research_agent', id='39fee8b6-4e85-4fa1-b3d6-60a7ce8e4ad6', tool_calls=[{'name': 'transfer_back_to_supervisor', 'args': {}, 'id': '76348159-b6e9-46ee-a465-54530ffc60d8', 'type': 'tool_call'}]), ToolMessage(content='Successfully transferred back to supervisor', name='transfer_back_to_supervisor', id='e4f9e8b6-1941-4d7f-b9f6-1c43a258cc68', tool_call_id='76348159-b6e9-46ee-a465-54530ffc60d8')]}}\n",
      "messages\n",
      "(AIMessage(content=\"I'm sorry, I cannot provide an exact GDP figure for India in 2024 as it is still the current year and final figures are not yet available. However, I can tell you that India's economy grew by 8.2% in the fiscal year 2023-2024. Estimates for India's GDP growth in 2024-25 vary.\\n\\nWould you like me to find out the GDP for a previous year, or perhaps the estimated GDP from a specific organization?\", additional_kwargs={}, response_metadata={'safety_ratings': [], 'finish_reason': 'STOP', 'model_name': 'gemini-2.5-flash'}, name='supervisor', id='run--f1c357cf-5351-4252-aeb5-a10282b49a52', usage_metadata={'input_tokens': 333, 'output_tokens': 111, 'total_tokens': 444, 'input_token_details': {'cache_read': 0}}), {'langgraph_step': 3, 'langgraph_node': 'supervisor', 'langgraph_triggers': ('branch:to:supervisor',), 'langgraph_path': ('__pregel_pull', 'supervisor'), 'langgraph_checkpoint_ns': 'supervisor:ea8e4169-2bf1-06ae-4184-5fcbddd4636d', 'checkpoint_ns': 'supervisor:ea8e4169-2bf1-06ae-4184-5fcbddd4636d'})\n",
      "updates\n",
      "{'supervisor': {'messages': [HumanMessage(content='what was India GDP in 2024', additional_kwargs={}, response_metadata={}, id='c1e6a150-01dc-4b0f-afcc-54c2f6df12ab'), AIMessage(content='', additional_kwargs={'function_call': {'name': 'transfer_to_research_agent', 'arguments': '{}'}}, response_metadata={'finish_reason': 'STOP', 'model_name': 'gemini-2.5-flash', 'safety_ratings': []}, name='supervisor', id='run--e88c45c9-bd6b-4387-b4f3-a6ae1de362df', tool_calls=[{'name': 'transfer_to_research_agent', 'args': {}, 'id': '440c3ced-93b7-41e1-8bb7-41277169d215', 'type': 'tool_call'}], usage_metadata={'input_tokens': 211, 'output_tokens': 55, 'total_tokens': 266, 'input_token_details': {'cache_read': 0}, 'output_token_details': {'reasoning': 41}}), ToolMessage(content='Successfully transferred to research_agent', name='transfer_to_research_agent', id='eef45fd6-e6e8-4393-9c9e-b58c80caf92a', tool_call_id='440c3ced-93b7-41e1-8bb7-41277169d215'), AIMessage(content=\"India's economy grew at a rate of 8.2% in fiscal year 2023-2024. Estimates for India's GDP growth in 2024-25 vary.\", additional_kwargs={}, response_metadata={'finish_reason': 'STOP', 'model_name': 'gemini-2.5-flash', 'safety_ratings': []}, name='research_agent', id='run--6141c120-518a-40fd-9a7a-99f3ffc5cbfa', usage_metadata={'input_tokens': 2302, 'output_tokens': 219, 'total_tokens': 2521, 'input_token_details': {'cache_read': 859}, 'output_token_details': {'reasoning': 173}}), AIMessage(content='Transferring back to supervisor', additional_kwargs={}, response_metadata={'__is_handoff_back': True}, name='research_agent', id='39fee8b6-4e85-4fa1-b3d6-60a7ce8e4ad6', tool_calls=[{'name': 'transfer_back_to_supervisor', 'args': {}, 'id': '76348159-b6e9-46ee-a465-54530ffc60d8', 'type': 'tool_call'}]), ToolMessage(content='Successfully transferred back to supervisor', name='transfer_back_to_supervisor', id='e4f9e8b6-1941-4d7f-b9f6-1c43a258cc68', tool_call_id='76348159-b6e9-46ee-a465-54530ffc60d8'), AIMessage(content=\"I'm sorry, I cannot provide an exact GDP figure for India in 2024 as it is still the current year and final figures are not yet available. However, I can tell you that India's economy grew by 8.2% in the fiscal year 2023-2024. Estimates for India's GDP growth in 2024-25 vary.\\n\\nWould you like me to find out the GDP for a previous year, or perhaps the estimated GDP from a specific organization?\", additional_kwargs={}, response_metadata={'safety_ratings': [], 'finish_reason': 'STOP', 'model_name': 'gemini-2.5-flash'}, name='supervisor', id='run--f1c357cf-5351-4252-aeb5-a10282b49a52', usage_metadata={'input_tokens': 333, 'output_tokens': 111, 'total_tokens': 444, 'input_token_details': {'cache_read': 0}})]}}\n"
     ]
    }
   ],
   "source": [
    "initial_state = {\n",
    "    \"messages\": [HumanMessage(content=\"what was India GDP in 2024\")]\n",
    "}\n",
    "\n",
    "\n",
    "\n",
    "for stream_mode,chunk in supervisor.stream(\n",
    "    initial_state,\n",
    "    stream_mode=[\"updates\", \"messages\"],\n",
    "):\n",
    "    print(stream_mode)\n",
    "    print(chunk)\n"
   ]
  }
 ],
 "metadata": {
  "kernelspec": {
   "display_name": "venv (3.12.4)",
   "language": "python",
   "name": "python3"
  },
  "language_info": {
   "codemirror_mode": {
    "name": "ipython",
    "version": 3
   },
   "file_extension": ".py",
   "mimetype": "text/x-python",
   "name": "python",
   "nbconvert_exporter": "python",
   "pygments_lexer": "ipython3",
   "version": "3.12.4"
  }
 },
 "nbformat": 4,
 "nbformat_minor": 5
}
